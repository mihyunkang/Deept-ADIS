{
 "cells": [
  {
   "cell_type": "code",
   "execution_count": null,
   "metadata": {},
   "outputs": [],
   "source": [
    "import os\n",
    "def createfolder(folder):\n",
    "    try:\n",
    "        if not os.path.exists(folder):\n",
    "            os.makedirs(folder)\n",
    "    except OSError:\n",
    "        print('Error: creating directory' + folder)\n",
    "        "
   ]
  },
  {
   "cell_type": "code",
   "execution_count": null,
   "metadata": {},
   "outputs": [],
   "source": [
    "import PIL\n",
    "from PIL import Image\n",
    "\n",
    "def load_image_file(file, mode='RGB'):\n",
    "    im = PIL.Image.open(file)\n",
    "    if mode:\n",
    "        im = im.convert(mode)\n",
    "    return np.array(im)"
   ]
  },
  {
   "cell_type": "code",
   "execution_count": null,
   "metadata": {},
   "outputs": [],
   "source": [
    "import cv2\n",
    "import numpy as np\n",
    "import face_recognition\n",
    "import re\n",
    "import os\n",
    "\n",
    "\n",
    "# 같은 메소드로 만든 모든 비디오 파일들에 대해.\n",
    "def directory_video(method, videoname):\n",
    "    video_path = method + '/' + videoname\n",
    "    print(video_path)\n",
    "    #print(os.listdir(video_path))\n",
    "    video_files = os.listdir(video_path)\n",
    "    for file in video_files:\n",
    "        extract_frame(video_path+\"/\"+file)"
   ]
  },
  {
   "cell_type": "code",
   "execution_count": null,
   "metadata": {},
   "outputs": [],
   "source": [
    "\n",
    "# 비디오에 대해 프레임 추출\n",
    "#frame_save_path = videoname+'_frame'\n",
    "\n",
    "def extract_frame(filename):\n",
    "    #path \n",
    "    print(filename)\n",
    "    \n",
    "    folder_path = filename.split('/')[1]\n",
    "    file_name = filename.split('/')[2].split('_')\n",
    "    video = cv2.VideoCapture(filename)\n",
    "    count = 0\n",
    "    \n",
    "    #create save folder\n",
    "    folder = folder_path + '_face' #fake_method_A_face 폴더\n",
    "    createfolder(folder)\n",
    "    \n",
    "    videoframe = video.get(cv2.CAP_PROP_POS_FRAMES)\n",
    "    videocount = video.get(cv2.CAP_PROP_FRAME_COUNT)\n",
    "\n",
    "    while video.isOpened():\n",
    "        #ret 은 프레임이 존재하지 않을때 T/F 반환\n",
    "        #frame 은 프레임 반환\n",
    "        if(videoframe == videocount):\n",
    "            video.open(filename)\n",
    "            \n",
    "        ret, frame = video.read()\n",
    "\n",
    "        if ret == False:\n",
    "            print(\"Frame doesn't Exist\")\n",
    "            break\n",
    "\n",
    "        frame = cv2.cvtColor(frame, cv2.COLOR_BGR2RGB)    \n",
    "\n",
    "        try:\n",
    "\n",
    "            #face_location 은 얼굴 위치(행렬에서)\n",
    "            face_location = face_recognition.face_locations(frame) #cnn 모델 사용 X. 원할시, model='cnn' 입력(GPU 없는 기기에서는 실행되지 않음)\n",
    "            top, right, bottom, left = face_location[0]\n",
    "            print(\"A face is located at pixel location Top: {}, Left: {}, Bottom: {}, Right: {}\".format(top, left, bottom, right))\n",
    "\n",
    "            #face_location 찾아서 파일로 저장\n",
    "            face_image = Image.fromarray(frame[top-10:bottom+10, left-10:right+10])\n",
    "            face_image.save(folder+'/'+file_name[0]+'_'+file_name[1]+'_'+file_name[2]+'_'+file_name[3][:-4]+'_%d.jpg'%count)\n",
    "            print('Saved frame%d.jpg' %count)\n",
    "            count += 1\n",
    "\n",
    "        except Exception as e:\n",
    "            print(\"Exception Occurs.\", e)\n",
    "            pass\n",
    "\n",
    "    video.release()\n",
    "    cv2.destroyAllWindows()"
   ]
  },
  {
   "cell_type": "markdown",
   "metadata": {},
   "source": [
    "### 자동화"
   ]
  },
  {
   "cell_type": "code",
   "execution_count": null,
   "metadata": {},
   "outputs": [],
   "source": [
    "def main():\n",
    "\n",
    "    directory = 'E:\\Deept-ADIS\\data'\n",
    "    typelist = os.listdir( 'E:\\Deept-ADIS\\data') #methodA, methodB, real\n",
    "    \n",
    "    for type in typelist:\n",
    "        directory_video(directory, type) #type 폴더 내로 진입"
   ]
  },
  {
   "cell_type": "code",
   "execution_count": null,
   "metadata": {},
   "outputs": [],
   "source": [
    "if __name__ == \"__main__\":\n",
    "    main()"
   ]
  }
 ],
 "metadata": {
  "kernelspec": {
   "display_name": "Python 3",
   "language": "python",
   "name": "python3"
  },
  "language_info": {
   "codemirror_mode": {
    "name": "ipython",
    "version": 3
   },
   "file_extension": ".py",
   "mimetype": "text/x-python",
   "name": "python",
   "nbconvert_exporter": "python",
   "pygments_lexer": "ipython3",
   "version": "3.7.7"
  }
 },
 "nbformat": 4,
 "nbformat_minor": 4
}
